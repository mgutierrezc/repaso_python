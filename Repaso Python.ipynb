{
 "cells": [
  {
   "cell_type": "markdown",
   "metadata": {},
   "source": [
    "# Listas y diccionarios"
   ]
  },
  {
   "cell_type": "markdown",
   "metadata": {},
   "source": [
    "## Listas"
   ]
  },
  {
   "cell_type": "code",
   "execution_count": 14,
   "metadata": {},
   "outputs": [
    {
     "name": "stdout",
     "output_type": "stream",
     "text": [
      "['choice_1', 'choice_2']\n"
     ]
    }
   ],
   "source": [
    "num_choices = 10\n",
    "choices = []\n",
    "\n",
    "# añadiendo elementos a la lista\n",
    "choices.append(\"choice_1\")\n",
    "choices.append(\"choice_2\")\n",
    "print(choices)"
   ]
  },
  {
   "cell_type": "code",
   "execution_count": 18,
   "metadata": {},
   "outputs": [
    {
     "name": "stdout",
     "output_type": "stream",
     "text": [
      "['choice_1', 'choice_2', 'choice_3', 'choice_4', 'choice_5', 'choice_6', 'choice_7', 'choice_8', 'choice_9', 'choice_10']\n"
     ]
    }
   ],
   "source": [
    "choices = [] # reseteando nuestra lista\n",
    "\n",
    "# añadiendo elementos con un loop\n",
    "for counter_choices in range(1, num_choices + 1):\n",
    "    choices.append(\"choice_{}\".format(counter_choices))\n",
    "\n",
    "print(choices)"
   ]
  },
  {
   "cell_type": "code",
   "execution_count": 20,
   "metadata": {},
   "outputs": [
    {
     "name": "stdout",
     "output_type": "stream",
     "text": [
      "------\n",
      "La elección actual es choice_1\n",
      "------\n",
      "------\n",
      "La elección actual es choice_2\n",
      "------\n",
      "------\n",
      "La elección actual es choice_3\n",
      "------\n",
      "------\n",
      "La elección actual es choice_4\n",
      "------\n",
      "------\n",
      "La elección actual es choice_5\n",
      "------\n",
      "------\n",
      "La elección actual es choice_6\n",
      "------\n",
      "------\n",
      "La elección actual es choice_7\n",
      "------\n",
      "------\n",
      "La elección actual es choice_8\n",
      "------\n",
      "------\n",
      "La elección actual es choice_9\n",
      "------\n",
      "------\n",
      "La elección actual es choice_10\n",
      "------\n"
     ]
    }
   ],
   "source": [
    "# iterando sobre una lista\n",
    "for item in choices:\n",
    "    print(\"------\")\n",
    "    print(\"La elección actual es {}\".format(item))\n",
    "    print(\"------\")"
   ]
  },
  {
   "cell_type": "code",
   "execution_count": 24,
   "metadata": {},
   "outputs": [
    {
     "name": "stdout",
     "output_type": "stream",
     "text": [
      "---\n",
      "Player 0\n",
      "-----------\n",
      "Entering choice 0\n",
      "-----------\n",
      "Entering choice 1\n",
      "-----------\n",
      "Entering choice 2\n",
      "-----------\n",
      "Entering choice 3\n",
      "-----------\n",
      "Entering choice 4\n",
      "---\n",
      "Player 1\n",
      "-----------\n",
      "Entering choice 0\n",
      "-----------\n",
      "Entering choice 1\n",
      "-----------\n",
      "Entering choice 2\n",
      "-----------\n",
      "Entering choice 3\n",
      "-----------\n",
      "Entering choice 4\n",
      "---\n",
      "Player 2\n",
      "-----------\n",
      "Entering choice 0\n",
      "-----------\n",
      "Entering choice 1\n",
      "-----------\n",
      "Entering choice 2\n",
      "-----------\n",
      "Entering choice 3\n",
      "-----------\n",
      "Entering choice 4\n",
      "---\n",
      "Player 3\n",
      "-----------\n",
      "Entering choice 0\n",
      "-----------\n",
      "Entering choice 1\n",
      "-----------\n",
      "Entering choice 2\n",
      "-----------\n",
      "Entering choice 3\n",
      "-----------\n",
      "Entering choice 4\n",
      "[['player_0_choice_0', 'player_0_choice_1', 'player_0_choice_2', 'player_0_choice_3', 'player_0_choice_4'], ['player_1_choice_0', 'player_1_choice_1', 'player_1_choice_2', 'player_1_choice_3', 'player_1_choice_4'], ['player_2_choice_0', 'player_2_choice_1', 'player_2_choice_2', 'player_2_choice_3', 'player_2_choice_4'], ['player_3_choice_0', 'player_3_choice_1', 'player_3_choice_2', 'player_3_choice_3', 'player_3_choice_4']]\n"
     ]
    }
   ],
   "source": [
    "# creando listas de listas\n",
    "num_players = 4 # nro de jugadores\n",
    "num_choices = 5 # nro de elecciones\n",
    "\n",
    "all_players_choices = []\n",
    "\n",
    "for player in range(num_players):\n",
    "    print(\"---\")\n",
    "    print(f\"Player {player}\")\n",
    "    \n",
    "    current_choices = [] # inicializando la lista de opciones por jugador\n",
    "    for choice in range(num_choices):\n",
    "        print(\"-----------\")\n",
    "        print(f\"Entering choice {choice}\")\n",
    "        current_choices.append(f\"player_{player}_choice_{choice}\")\n",
    "    \n",
    "    all_players_choices.append(current_choices) # añadiendo nuestra lista de nuevas opciones por jugador\n",
    "\n",
    "print(all_players_choices)"
   ]
  },
  {
   "cell_type": "code",
   "execution_count": null,
   "metadata": {},
   "outputs": [],
   "source": [
    "# choices = [f\"choice_{counter_choice}\" for counter_choice in range(1, num_choices + 1)] # list comprehension"
   ]
  },
  {
   "cell_type": "markdown",
   "metadata": {},
   "source": [
    "## Diccionarios"
   ]
  },
  {
   "cell_type": "code",
   "execution_count": 29,
   "metadata": {},
   "outputs": [
    {
     "name": "stdout",
     "output_type": "stream",
     "text": [
      "{'player_1': ['choice_1', 'choice_2', 'choice_3', 'choice_4']}\n",
      "{'player_1': ['choice_1', 'choice_2', 'choice_3', 'choice_4'], 'player_2': ['choice_1', 'choice_2', 'choice_3', 'choice_4']}\n"
     ]
    }
   ],
   "source": [
    "choices_per_player = {} # diccionario que guarda las opciones por jugador\n",
    "choices = [\"choice_1\", \"choice_2\", \"choice_3\", \"choice_4\"] # opciones \n",
    "\n",
    "# inicializando un elemento del diccionario\n",
    "choices_per_player[\"player_1\"] = choices\n",
    "print(choices_per_player)\n",
    "\n",
    "# inicializando un elemento más\n",
    "choices_per_player[\"player_2\"] = choices\n",
    "print(choices_per_player)"
   ]
  },
  {
   "cell_type": "code",
   "execution_count": 30,
   "metadata": {},
   "outputs": [
    {
     "name": "stdout",
     "output_type": "stream",
     "text": [
      "{'player_1': ['choice_1', 'choice_2', 'choice_3', 'choice_4'], 'player_2': ['choice_1', 'choice_2', 'choice_3', 'choice_4'], 'player_3': ['choice_1', 'choice_2', 'choice_3', 'choice_4'], 'player_4': ['choice_1', 'choice_2', 'choice_3', 'choice_4']}\n"
     ]
    }
   ],
   "source": [
    "choices_per_player = {} # reinicializando el diccionario\n",
    "\n",
    "num_players = 4 # nro de jugadores\n",
    "\n",
    "# iterando para crear un diccionario\n",
    "for player in range(1, num_players + 1):\n",
    "    choices_per_player[f\"player_{player}\"] = choices\n",
    "\n",
    "print(choices_per_player)"
   ]
  },
  {
   "cell_type": "markdown",
   "metadata": {},
   "source": [
    "# Clases y Herencia"
   ]
  },
  {
   "cell_type": "markdown",
   "metadata": {},
   "source": [
    "## Creando una clase"
   ]
  },
  {
   "cell_type": "code",
   "execution_count": 38,
   "metadata": {},
   "outputs": [
    {
     "name": "stdout",
     "output_type": "stream",
     "text": [
      "El kilometraje de mi nuevo mazda es 10\n",
      "El valor original de mi nuevo mazda es 10000\n",
      "El valor de mi nuevo mazda tras su uso es 9900\n"
     ]
    }
   ],
   "source": [
    "# definiendo nuestra clase `autos`\n",
    "class Auto:\n",
    "    def __init__(self, kilometraje, valor_original):\n",
    "        \"\"\"\n",
    "        Constructor de la clase auto. Setea los valores\n",
    "        de los atributos de la clase Auto\n",
    "        \n",
    "        Input: None\n",
    "        Output: None\n",
    "        \"\"\"\n",
    "        \n",
    "        self.kilometraje = kilometraje\n",
    "        self.valor_original = valor_original\n",
    "    \n",
    "    def obtener_kilometraje(self):\n",
    "        \"\"\"\n",
    "        Obtiene el kilometraje del auto recien creado\n",
    "        \n",
    "        Input: None\n",
    "        Output: None\n",
    "        \"\"\"\n",
    "        return self.kilometraje\n",
    "    \n",
    "    def obtener_valor_original(self):\n",
    "        \"\"\"\n",
    "        Obtiene el kilometraje del auto recien creado\n",
    "        \n",
    "        Input: None\n",
    "        Output: None\n",
    "        \"\"\"\n",
    "        return self.valor_original\n",
    "    \n",
    "    def obtener_valor_tras_uso(self):\n",
    "        \"\"\"\n",
    "        Obtiene el valor del auto tras su uso\n",
    "        \n",
    "        Input: None\n",
    "        Output: None\n",
    "        \"\"\"\n",
    "        return self.valor_original - 10*self.kilometraje\n",
    "\n",
    "mazda_nuevo = Auto(10, 10000)\n",
    "print(\"El kilometraje de mi nuevo mazda es\", mazda_nuevo.obtener_kilometraje())\n",
    "print(\"El valor original de mi nuevo mazda es\", mazda_nuevo.obtener_valor_original())\n",
    "print(\"El valor de mi nuevo mazda tras su uso es\", mazda_nuevo.obtener_valor_tras_uso())"
   ]
  },
  {
   "cell_type": "markdown",
   "metadata": {},
   "source": [
    "## Herencia de clases"
   ]
  },
  {
   "cell_type": "code",
   "execution_count": 43,
   "metadata": {},
   "outputs": [
    {
     "name": "stdout",
     "output_type": "stream",
     "text": [
      "El kilometraje de mi station es 10\n",
      "El valor original de mi station es 5000\n",
      "El valor de mi station tras su uso es 4900\n",
      "Este auto tiene una maletera ancha de 1.5 metros de alto\n"
     ]
    }
   ],
   "source": [
    "class Nissan(Auto):\n",
    "    \n",
    "    def __init__(self, kilometraje, valor_original, alto_maletera):\n",
    "        # inicializando los atributos que tiene Nissan por ser un Auto\n",
    "        Auto.__init__(self, kilometraje, valor_original)\n",
    "        # inicializando los atributos que tiene por ser Nissan\n",
    "        self.alto_maletera = alto_maletera\n",
    "    \n",
    "    def maletera_ancha(self):\n",
    "        return f\"Este auto tiene una maletera ancha de {self.alto_maletera} metros de alto\"\n",
    "\n",
    "station_wagon = Nissan(10, 5000, 1.5)\n",
    "print(\"El kilometraje de mi station es\", station_wagon.obtener_kilometraje())\n",
    "print(\"El valor original de mi station es\", station_wagon.obtener_valor_original())\n",
    "print(\"El valor de mi station tras su uso es\", station_wagon.obtener_valor_tras_uso())\n",
    "print(station_wagon.maletera_ancha())"
   ]
  },
  {
   "cell_type": "code",
   "execution_count": 45,
   "metadata": {},
   "outputs": [
    {
     "name": "stdout",
     "output_type": "stream",
     "text": [
      "El kilometraje de mi corolla es 10\n",
      "El valor original de mi corolla es 5000\n",
      "El valor de mi corolla tras su uso es 4900\n",
      "Este auto tiene 4 aeroventilas\n"
     ]
    }
   ],
   "source": [
    "class Toyota(Auto):\n",
    "    \n",
    "    def __init__(self, kilometraje, valor_original, nro_aeroventilas):\n",
    "        # inicializando los atributos que tiene Nissan por ser un Auto\n",
    "        Auto.__init__(self, kilometraje, valor_original)\n",
    "        # inicializando los atributos que tiene por ser Nissan\n",
    "        self.nro_aeroventilas = nro_aeroventilas\n",
    "    \n",
    "    def numero_de_aeroventilas(self):\n",
    "        return f\"Este auto tiene {self.nro_aeroventilas} aeroventilas\"\n",
    "\n",
    "toyota_corolla = Toyota(10, 5000, 4)\n",
    "print(\"El kilometraje de mi corolla es\", toyota_corolla.obtener_kilometraje())\n",
    "print(\"El valor original de mi corolla es\", toyota_corolla.obtener_valor_original())\n",
    "print(\"El valor de mi corolla tras su uso es\", toyota_corolla.obtener_valor_tras_uso())\n",
    "print(toyota_corolla.numero_de_aeroventilas())"
   ]
  }
 ],
 "metadata": {
  "kernelspec": {
   "display_name": "Python 3",
   "language": "python",
   "name": "python3"
  },
  "language_info": {
   "codemirror_mode": {
    "name": "ipython",
    "version": 3
   },
   "file_extension": ".py",
   "mimetype": "text/x-python",
   "name": "python",
   "nbconvert_exporter": "python",
   "pygments_lexer": "ipython3",
   "version": "3.6.5"
  },
  "toc": {
   "base_numbering": 1,
   "nav_menu": {},
   "number_sections": true,
   "sideBar": true,
   "skip_h1_title": false,
   "title_cell": "Table of Contents",
   "title_sidebar": "Contents",
   "toc_cell": false,
   "toc_position": {},
   "toc_section_display": true,
   "toc_window_display": false
  }
 },
 "nbformat": 4,
 "nbformat_minor": 2
}
